{
 "cells": [
  {
   "cell_type": "code",
   "execution_count": 1,
   "metadata": {},
   "outputs": [],
   "source": [
    "import pandas as pd\n",
    "import numpy as np\n",
    "import statistics\n",
    "import seaborn as sns\n",
    "\n",
    "import matplotlib.pyplot as plt\n",
    "%matplotlib inline\n",
    "\n",
    "import warnings\n",
    "warnings.filterwarnings(\"ignore\")"
   ]
  },
  {
   "cell_type": "markdown",
   "metadata": {},
   "source": [
    "**Import test dataset with 'uri' and take just that column**"
   ]
  },
  {
   "cell_type": "code",
   "execution_count": 2,
   "metadata": {},
   "outputs": [],
   "source": [
    "df_w_uri = pd.read_csv('recs_library_2.csv', index_col=0)"
   ]
  },
  {
   "cell_type": "code",
   "execution_count": 3,
   "metadata": {},
   "outputs": [
    {
     "data": {
      "text/html": [
       "<div>\n",
       "<style scoped>\n",
       "    .dataframe tbody tr th:only-of-type {\n",
       "        vertical-align: middle;\n",
       "    }\n",
       "\n",
       "    .dataframe tbody tr th {\n",
       "        vertical-align: top;\n",
       "    }\n",
       "\n",
       "    .dataframe thead th {\n",
       "        text-align: right;\n",
       "    }\n",
       "</style>\n",
       "<table border=\"1\" class=\"dataframe\">\n",
       "  <thead>\n",
       "    <tr style=\"text-align: right;\">\n",
       "      <th></th>\n",
       "      <th>uri</th>\n",
       "    </tr>\n",
       "  </thead>\n",
       "  <tbody>\n",
       "    <tr>\n",
       "      <th>0</th>\n",
       "      <td>spotify:track:72794Eag03xdy7TO0KNuid</td>\n",
       "    </tr>\n",
       "    <tr>\n",
       "      <th>1</th>\n",
       "      <td>spotify:track:4uTvPEr01pjTbZgl7jcKBD</td>\n",
       "    </tr>\n",
       "    <tr>\n",
       "      <th>2</th>\n",
       "      <td>spotify:track:40cayr7aVuRU8lXVn1PSpx</td>\n",
       "    </tr>\n",
       "    <tr>\n",
       "      <th>3</th>\n",
       "      <td>spotify:track:7sKDftgGirHWTVFMtJoDoh</td>\n",
       "    </tr>\n",
       "    <tr>\n",
       "      <th>4</th>\n",
       "      <td>spotify:track:00mBzIWv5gHOYxwuEJXjOG</td>\n",
       "    </tr>\n",
       "    <tr>\n",
       "      <th>...</th>\n",
       "      <td>...</td>\n",
       "    </tr>\n",
       "    <tr>\n",
       "      <th>1096</th>\n",
       "      <td>spotify:track:2d40kroNsSMLNHMC04wQ9P</td>\n",
       "    </tr>\n",
       "    <tr>\n",
       "      <th>1097</th>\n",
       "      <td>spotify:track:5MVrZa7cDtnAoMvCgRAMqb</td>\n",
       "    </tr>\n",
       "    <tr>\n",
       "      <th>1098</th>\n",
       "      <td>spotify:track:6fracv4du3sDwo1XKcPrkw</td>\n",
       "    </tr>\n",
       "    <tr>\n",
       "      <th>1099</th>\n",
       "      <td>spotify:track:1MmwJ9hzIRw6lMEEeeZDd8</td>\n",
       "    </tr>\n",
       "    <tr>\n",
       "      <th>1100</th>\n",
       "      <td>NaN</td>\n",
       "    </tr>\n",
       "  </tbody>\n",
       "</table>\n",
       "<p>1101 rows × 1 columns</p>\n",
       "</div>"
      ],
      "text/plain": [
       "                                       uri\n",
       "0     spotify:track:72794Eag03xdy7TO0KNuid\n",
       "1     spotify:track:4uTvPEr01pjTbZgl7jcKBD\n",
       "2     spotify:track:40cayr7aVuRU8lXVn1PSpx\n",
       "3     spotify:track:7sKDftgGirHWTVFMtJoDoh\n",
       "4     spotify:track:00mBzIWv5gHOYxwuEJXjOG\n",
       "...                                    ...\n",
       "1096  spotify:track:2d40kroNsSMLNHMC04wQ9P\n",
       "1097  spotify:track:5MVrZa7cDtnAoMvCgRAMqb\n",
       "1098  spotify:track:6fracv4du3sDwo1XKcPrkw\n",
       "1099  spotify:track:1MmwJ9hzIRw6lMEEeeZDd8\n",
       "1100                                   NaN\n",
       "\n",
       "[1101 rows x 1 columns]"
      ]
     },
     "execution_count": 3,
     "metadata": {},
     "output_type": "execute_result"
    }
   ],
   "source": [
    "uri = df_w_uri.loc[:, 'uri']\n",
    "uri = pd.DataFrame(uri)\n",
    "uri"
   ]
  },
  {
   "cell_type": "markdown",
   "metadata": {},
   "source": [
    "#### The original dataset (pulled from Spotify API)"
   ]
  },
  {
   "cell_type": "code",
   "execution_count": 4,
   "metadata": {},
   "outputs": [],
   "source": [
    "df = pd.read_csv('music_prefs.csv', index_col=0)"
   ]
  },
  {
   "cell_type": "code",
   "execution_count": 5,
   "metadata": {},
   "outputs": [
    {
     "data": {
      "text/html": [
       "<div>\n",
       "<style scoped>\n",
       "    .dataframe tbody tr th:only-of-type {\n",
       "        vertical-align: middle;\n",
       "    }\n",
       "\n",
       "    .dataframe tbody tr th {\n",
       "        vertical-align: top;\n",
       "    }\n",
       "\n",
       "    .dataframe thead th {\n",
       "        text-align: right;\n",
       "    }\n",
       "</style>\n",
       "<table border=\"1\" class=\"dataframe\">\n",
       "  <thead>\n",
       "    <tr style=\"text-align: right;\">\n",
       "      <th></th>\n",
       "      <th>danceability</th>\n",
       "      <th>energy</th>\n",
       "      <th>key</th>\n",
       "      <th>loudness</th>\n",
       "      <th>mode</th>\n",
       "      <th>speechiness</th>\n",
       "      <th>acousticness</th>\n",
       "      <th>instrumentalness</th>\n",
       "      <th>liveness</th>\n",
       "      <th>valence</th>\n",
       "      <th>tempo</th>\n",
       "      <th>duration_ms</th>\n",
       "      <th>time_signature</th>\n",
       "      <th>song_popularity</th>\n",
       "      <th>explicit</th>\n",
       "      <th>artists</th>\n",
       "      <th>genres</th>\n",
       "      <th>album_popularity</th>\n",
       "      <th>artist_popularity</th>\n",
       "      <th>like</th>\n",
       "    </tr>\n",
       "  </thead>\n",
       "  <tbody>\n",
       "    <tr>\n",
       "      <th>0</th>\n",
       "      <td>0.489</td>\n",
       "      <td>0.516</td>\n",
       "      <td>1</td>\n",
       "      <td>-8.921</td>\n",
       "      <td>0</td>\n",
       "      <td>0.3080</td>\n",
       "      <td>0.4460</td>\n",
       "      <td>0.00000</td>\n",
       "      <td>0.0832</td>\n",
       "      <td>0.172</td>\n",
       "      <td>149.611</td>\n",
       "      <td>95160</td>\n",
       "      <td>4</td>\n",
       "      <td>49</td>\n",
       "      <td>True</td>\n",
       "      <td>['Damso']</td>\n",
       "      <td>[['belgian hip hop', 'french hip hop', 'pop ur...</td>\n",
       "      <td>[66]</td>\n",
       "      <td>[75]</td>\n",
       "      <td>1</td>\n",
       "    </tr>\n",
       "    <tr>\n",
       "      <th>1</th>\n",
       "      <td>0.662</td>\n",
       "      <td>0.436</td>\n",
       "      <td>9</td>\n",
       "      <td>-12.900</td>\n",
       "      <td>0</td>\n",
       "      <td>0.0651</td>\n",
       "      <td>0.8530</td>\n",
       "      <td>0.00000</td>\n",
       "      <td>0.0624</td>\n",
       "      <td>0.627</td>\n",
       "      <td>92.857</td>\n",
       "      <td>178293</td>\n",
       "      <td>4</td>\n",
       "      <td>47</td>\n",
       "      <td>False</td>\n",
       "      <td>['Jean Leloup']</td>\n",
       "      <td>[['indie quebecois', 'pop quebecois', 'rock qu...</td>\n",
       "      <td>[45]</td>\n",
       "      <td>[51]</td>\n",
       "      <td>1</td>\n",
       "    </tr>\n",
       "    <tr>\n",
       "      <th>2</th>\n",
       "      <td>0.517</td>\n",
       "      <td>0.928</td>\n",
       "      <td>4</td>\n",
       "      <td>-8.881</td>\n",
       "      <td>0</td>\n",
       "      <td>0.0448</td>\n",
       "      <td>0.0145</td>\n",
       "      <td>0.02330</td>\n",
       "      <td>0.4810</td>\n",
       "      <td>0.728</td>\n",
       "      <td>90.593</td>\n",
       "      <td>172707</td>\n",
       "      <td>4</td>\n",
       "      <td>31</td>\n",
       "      <td>False</td>\n",
       "      <td>['Jean Leloup']</td>\n",
       "      <td>[['indie quebecois', 'pop quebecois', 'rock qu...</td>\n",
       "      <td>[38]</td>\n",
       "      <td>[51]</td>\n",
       "      <td>1</td>\n",
       "    </tr>\n",
       "    <tr>\n",
       "      <th>3</th>\n",
       "      <td>0.820</td>\n",
       "      <td>0.407</td>\n",
       "      <td>4</td>\n",
       "      <td>-11.301</td>\n",
       "      <td>0</td>\n",
       "      <td>0.0387</td>\n",
       "      <td>0.7710</td>\n",
       "      <td>0.00544</td>\n",
       "      <td>0.1130</td>\n",
       "      <td>0.770</td>\n",
       "      <td>125.642</td>\n",
       "      <td>138027</td>\n",
       "      <td>4</td>\n",
       "      <td>42</td>\n",
       "      <td>False</td>\n",
       "      <td>['Jean Leloup']</td>\n",
       "      <td>[['indie quebecois', 'pop quebecois', 'rock qu...</td>\n",
       "      <td>[45]</td>\n",
       "      <td>[51]</td>\n",
       "      <td>1</td>\n",
       "    </tr>\n",
       "    <tr>\n",
       "      <th>4</th>\n",
       "      <td>0.452</td>\n",
       "      <td>0.579</td>\n",
       "      <td>2</td>\n",
       "      <td>-11.085</td>\n",
       "      <td>1</td>\n",
       "      <td>0.0476</td>\n",
       "      <td>0.0153</td>\n",
       "      <td>0.89300</td>\n",
       "      <td>0.6370</td>\n",
       "      <td>0.929</td>\n",
       "      <td>84.615</td>\n",
       "      <td>213760</td>\n",
       "      <td>4</td>\n",
       "      <td>61</td>\n",
       "      <td>False</td>\n",
       "      <td>['Khruangbin']</td>\n",
       "      <td>[['funk', 'indie soul', 'neo-psychedelic', 'so...</td>\n",
       "      <td>[68]</td>\n",
       "      <td>[72]</td>\n",
       "      <td>1</td>\n",
       "    </tr>\n",
       "  </tbody>\n",
       "</table>\n",
       "</div>"
      ],
      "text/plain": [
       "   danceability  energy  key  loudness  mode  speechiness  acousticness  \\\n",
       "0         0.489   0.516    1    -8.921     0       0.3080        0.4460   \n",
       "1         0.662   0.436    9   -12.900     0       0.0651        0.8530   \n",
       "2         0.517   0.928    4    -8.881     0       0.0448        0.0145   \n",
       "3         0.820   0.407    4   -11.301     0       0.0387        0.7710   \n",
       "4         0.452   0.579    2   -11.085     1       0.0476        0.0153   \n",
       "\n",
       "   instrumentalness  liveness  valence    tempo  duration_ms  time_signature  \\\n",
       "0           0.00000    0.0832    0.172  149.611        95160               4   \n",
       "1           0.00000    0.0624    0.627   92.857       178293               4   \n",
       "2           0.02330    0.4810    0.728   90.593       172707               4   \n",
       "3           0.00544    0.1130    0.770  125.642       138027               4   \n",
       "4           0.89300    0.6370    0.929   84.615       213760               4   \n",
       "\n",
       "   song_popularity  explicit          artists  \\\n",
       "0               49      True        ['Damso']   \n",
       "1               47     False  ['Jean Leloup']   \n",
       "2               31     False  ['Jean Leloup']   \n",
       "3               42     False  ['Jean Leloup']   \n",
       "4               61     False   ['Khruangbin']   \n",
       "\n",
       "                                              genres album_popularity  \\\n",
       "0  [['belgian hip hop', 'french hip hop', 'pop ur...             [66]   \n",
       "1  [['indie quebecois', 'pop quebecois', 'rock qu...             [45]   \n",
       "2  [['indie quebecois', 'pop quebecois', 'rock qu...             [38]   \n",
       "3  [['indie quebecois', 'pop quebecois', 'rock qu...             [45]   \n",
       "4  [['funk', 'indie soul', 'neo-psychedelic', 'so...             [68]   \n",
       "\n",
       "  artist_popularity  like  \n",
       "0              [75]     1  \n",
       "1              [51]     1  \n",
       "2              [51]     1  \n",
       "3              [51]     1  \n",
       "4              [72]     1  "
      ]
     },
     "execution_count": 5,
     "metadata": {},
     "output_type": "execute_result"
    }
   ],
   "source": [
    "# We need to keep the uri in the dataset\n",
    "\n",
    "df.head()"
   ]
  },
  {
   "cell_type": "code",
   "execution_count": 6,
   "metadata": {},
   "outputs": [
    {
     "data": {
      "text/plain": [
       "(2376, 20)"
      ]
     },
     "execution_count": 6,
     "metadata": {},
     "output_type": "execute_result"
    }
   ],
   "source": [
    "df.shape"
   ]
  },
  {
   "cell_type": "markdown",
   "metadata": {},
   "source": [
    "#### Changing 'album_popularity' from string to int"
   ]
  },
  {
   "cell_type": "code",
   "execution_count": 7,
   "metadata": {},
   "outputs": [],
   "source": [
    "# album_popularity -- from string to int\n",
    "\n",
    "for i in range(len(df)):\n",
    "    n = df.loc[i, 'album_popularity']\n",
    "    n = n[1:-1].split(',')\n",
    "    n = int(n[0])\n",
    "    df.loc[i, 'album_popularity'] = n    "
   ]
  },
  {
   "cell_type": "markdown",
   "metadata": {},
   "source": [
    "#### Changing 'artist_popularity' from string to mean int"
   ]
  },
  {
   "cell_type": "code",
   "execution_count": 8,
   "metadata": {},
   "outputs": [],
   "source": [
    "# artist_popularity -- from string to int (mean of all artists)\n",
    "\n",
    "for i in range(len(df)):\n",
    "    n = df.loc[i, 'artist_popularity']\n",
    "    n = n[1:-1].split(',')\n",
    "    \n",
    "    for j in range(len(n)):\n",
    "        n[j] = int(n[j])\n",
    "        \n",
    "    n = statistics.mean(n)\n",
    "    df.loc[i, 'artist_popularity'] = n"
   ]
  },
  {
   "cell_type": "markdown",
   "metadata": {},
   "source": [
    "#### Creating one-hot encoded variables for music genres"
   ]
  },
  {
   "cell_type": "code",
   "execution_count": 9,
   "metadata": {},
   "outputs": [],
   "source": [
    "df['r&b'] = 0\n",
    "df['pop'] = 0\n",
    "df['rap'] = 0\n",
    "df['hip hop'] = 0\n",
    "df['funk'] = 0\n",
    "df['rock'] = 0"
   ]
  },
  {
   "cell_type": "code",
   "execution_count": 10,
   "metadata": {},
   "outputs": [],
   "source": [
    "for i in range(len(df)):\n",
    "    genres = df.loc[i, 'genres']\n",
    "    if 'hip hop' in genres:\n",
    "        df.loc[i, 'hip hop'] = 1\n",
    "    if 'pop' in genres:\n",
    "        df.loc[i, 'pop'] = 1\n",
    "    if 'rap' in genres:\n",
    "        df.loc[i, 'rap'] = 1\n",
    "    if 'r&b' in genres:\n",
    "        df.loc[i, 'r&b'] = 1\n",
    "    if 'funk' in genres:\n",
    "        df.loc[i, 'funk'] = 1\n",
    "    if 'rock' in genres:\n",
    "        df.loc[i, 'rock'] = 1"
   ]
  },
  {
   "cell_type": "code",
   "execution_count": 11,
   "metadata": {},
   "outputs": [
    {
     "name": "stdout",
     "output_type": "stream",
     "text": [
      "# of r&b songs in this df: 271\n",
      "# of pop songs in this df: 1084\n",
      "# of rap songs in this df: 677\n",
      "# of hip hop songs in this df: 739\n",
      "# of funk songs in this df: 112\n",
      "# of rock songs in this df: 443\n"
     ]
    }
   ],
   "source": [
    "print(\"# of r&b songs in this df: \" + str(sum(df['r&b'])))\n",
    "print(\"# of pop songs in this df: \" + str(sum(df['pop'])))\n",
    "print(\"# of rap songs in this df: \" + str(sum(df['rap'])))\n",
    "print(\"# of hip hop songs in this df: \" + str(sum(df['hip hop'])))\n",
    "print(\"# of funk songs in this df: \" + str(sum(df['funk'])))\n",
    "print(\"# of rock songs in this df: \" + str(sum(df['rock'])))"
   ]
  },
  {
   "cell_type": "markdown",
   "metadata": {},
   "source": [
    "#### Dropping artists and genres"
   ]
  },
  {
   "cell_type": "code",
   "execution_count": 12,
   "metadata": {},
   "outputs": [],
   "source": [
    "df = df.drop(['artists', 'genres'], axis=1)"
   ]
  },
  {
   "cell_type": "markdown",
   "metadata": {},
   "source": [
    "#### Changing 'explicit' from boolean to numeric"
   ]
  },
  {
   "cell_type": "code",
   "execution_count": 13,
   "metadata": {},
   "outputs": [],
   "source": [
    "df['explicit'] = (df['explicit']==True).astype(int)"
   ]
  },
  {
   "cell_type": "markdown",
   "metadata": {},
   "source": [
    "#### Changing milliseconds to minutes"
   ]
  },
  {
   "cell_type": "code",
   "execution_count": 14,
   "metadata": {},
   "outputs": [],
   "source": [
    "df['duration_min'] = (df['duration_ms']/(1000*60))%60\n",
    "df = df.drop('duration_ms',axis = 1)"
   ]
  },
  {
   "cell_type": "markdown",
   "metadata": {},
   "source": [
    "#### Checking if there are any null values"
   ]
  },
  {
   "cell_type": "code",
   "execution_count": 15,
   "metadata": {},
   "outputs": [
    {
     "data": {
      "text/plain": [
       "danceability         False\n",
       "energy               False\n",
       "key                  False\n",
       "loudness             False\n",
       "mode                 False\n",
       "speechiness          False\n",
       "acousticness         False\n",
       "instrumentalness     False\n",
       "liveness             False\n",
       "valence              False\n",
       "tempo                False\n",
       "time_signature       False\n",
       "song_popularity      False\n",
       "explicit             False\n",
       "album_popularity     False\n",
       "artist_popularity    False\n",
       "like                 False\n",
       "r&b                  False\n",
       "pop                  False\n",
       "rap                  False\n",
       "hip hop              False\n",
       "funk                 False\n",
       "rock                 False\n",
       "duration_min         False\n",
       "dtype: bool"
      ]
     },
     "execution_count": 15,
     "metadata": {},
     "output_type": "execute_result"
    }
   ],
   "source": [
    "df.isnull().any()"
   ]
  },
  {
   "cell_type": "markdown",
   "metadata": {},
   "source": [
    "#### The resulting dataframe:\n",
    "\n",
    "- 2376 songs\n",
    "- 24 columns -- 23 predictors, 1 target variable\n"
   ]
  },
  {
   "cell_type": "code",
   "execution_count": 16,
   "metadata": {},
   "outputs": [
    {
     "data": {
      "text/html": [
       "<div>\n",
       "<style scoped>\n",
       "    .dataframe tbody tr th:only-of-type {\n",
       "        vertical-align: middle;\n",
       "    }\n",
       "\n",
       "    .dataframe tbody tr th {\n",
       "        vertical-align: top;\n",
       "    }\n",
       "\n",
       "    .dataframe thead th {\n",
       "        text-align: right;\n",
       "    }\n",
       "</style>\n",
       "<table border=\"1\" class=\"dataframe\">\n",
       "  <thead>\n",
       "    <tr style=\"text-align: right;\">\n",
       "      <th></th>\n",
       "      <th>danceability</th>\n",
       "      <th>energy</th>\n",
       "      <th>key</th>\n",
       "      <th>loudness</th>\n",
       "      <th>mode</th>\n",
       "      <th>speechiness</th>\n",
       "      <th>acousticness</th>\n",
       "      <th>instrumentalness</th>\n",
       "      <th>liveness</th>\n",
       "      <th>valence</th>\n",
       "      <th>...</th>\n",
       "      <th>album_popularity</th>\n",
       "      <th>artist_popularity</th>\n",
       "      <th>like</th>\n",
       "      <th>r&amp;b</th>\n",
       "      <th>pop</th>\n",
       "      <th>rap</th>\n",
       "      <th>hip hop</th>\n",
       "      <th>funk</th>\n",
       "      <th>rock</th>\n",
       "      <th>duration_min</th>\n",
       "    </tr>\n",
       "  </thead>\n",
       "  <tbody>\n",
       "    <tr>\n",
       "      <th>0</th>\n",
       "      <td>0.489</td>\n",
       "      <td>0.516</td>\n",
       "      <td>1</td>\n",
       "      <td>-8.921</td>\n",
       "      <td>0</td>\n",
       "      <td>0.3080</td>\n",
       "      <td>0.4460</td>\n",
       "      <td>0.00000</td>\n",
       "      <td>0.0832</td>\n",
       "      <td>0.172</td>\n",
       "      <td>...</td>\n",
       "      <td>66</td>\n",
       "      <td>75</td>\n",
       "      <td>1</td>\n",
       "      <td>0</td>\n",
       "      <td>1</td>\n",
       "      <td>1</td>\n",
       "      <td>1</td>\n",
       "      <td>0</td>\n",
       "      <td>0</td>\n",
       "      <td>1.586000</td>\n",
       "    </tr>\n",
       "    <tr>\n",
       "      <th>1</th>\n",
       "      <td>0.662</td>\n",
       "      <td>0.436</td>\n",
       "      <td>9</td>\n",
       "      <td>-12.900</td>\n",
       "      <td>0</td>\n",
       "      <td>0.0651</td>\n",
       "      <td>0.8530</td>\n",
       "      <td>0.00000</td>\n",
       "      <td>0.0624</td>\n",
       "      <td>0.627</td>\n",
       "      <td>...</td>\n",
       "      <td>45</td>\n",
       "      <td>51</td>\n",
       "      <td>1</td>\n",
       "      <td>0</td>\n",
       "      <td>1</td>\n",
       "      <td>0</td>\n",
       "      <td>0</td>\n",
       "      <td>0</td>\n",
       "      <td>1</td>\n",
       "      <td>2.971550</td>\n",
       "    </tr>\n",
       "    <tr>\n",
       "      <th>2</th>\n",
       "      <td>0.517</td>\n",
       "      <td>0.928</td>\n",
       "      <td>4</td>\n",
       "      <td>-8.881</td>\n",
       "      <td>0</td>\n",
       "      <td>0.0448</td>\n",
       "      <td>0.0145</td>\n",
       "      <td>0.02330</td>\n",
       "      <td>0.4810</td>\n",
       "      <td>0.728</td>\n",
       "      <td>...</td>\n",
       "      <td>38</td>\n",
       "      <td>51</td>\n",
       "      <td>1</td>\n",
       "      <td>0</td>\n",
       "      <td>1</td>\n",
       "      <td>0</td>\n",
       "      <td>0</td>\n",
       "      <td>0</td>\n",
       "      <td>1</td>\n",
       "      <td>2.878450</td>\n",
       "    </tr>\n",
       "    <tr>\n",
       "      <th>3</th>\n",
       "      <td>0.820</td>\n",
       "      <td>0.407</td>\n",
       "      <td>4</td>\n",
       "      <td>-11.301</td>\n",
       "      <td>0</td>\n",
       "      <td>0.0387</td>\n",
       "      <td>0.7710</td>\n",
       "      <td>0.00544</td>\n",
       "      <td>0.1130</td>\n",
       "      <td>0.770</td>\n",
       "      <td>...</td>\n",
       "      <td>45</td>\n",
       "      <td>51</td>\n",
       "      <td>1</td>\n",
       "      <td>0</td>\n",
       "      <td>1</td>\n",
       "      <td>0</td>\n",
       "      <td>0</td>\n",
       "      <td>0</td>\n",
       "      <td>1</td>\n",
       "      <td>2.300450</td>\n",
       "    </tr>\n",
       "    <tr>\n",
       "      <th>4</th>\n",
       "      <td>0.452</td>\n",
       "      <td>0.579</td>\n",
       "      <td>2</td>\n",
       "      <td>-11.085</td>\n",
       "      <td>1</td>\n",
       "      <td>0.0476</td>\n",
       "      <td>0.0153</td>\n",
       "      <td>0.89300</td>\n",
       "      <td>0.6370</td>\n",
       "      <td>0.929</td>\n",
       "      <td>...</td>\n",
       "      <td>68</td>\n",
       "      <td>72</td>\n",
       "      <td>1</td>\n",
       "      <td>0</td>\n",
       "      <td>0</td>\n",
       "      <td>0</td>\n",
       "      <td>0</td>\n",
       "      <td>1</td>\n",
       "      <td>0</td>\n",
       "      <td>3.562667</td>\n",
       "    </tr>\n",
       "  </tbody>\n",
       "</table>\n",
       "<p>5 rows × 24 columns</p>\n",
       "</div>"
      ],
      "text/plain": [
       "   danceability  energy  key  loudness  mode  speechiness  acousticness  \\\n",
       "0         0.489   0.516    1    -8.921     0       0.3080        0.4460   \n",
       "1         0.662   0.436    9   -12.900     0       0.0651        0.8530   \n",
       "2         0.517   0.928    4    -8.881     0       0.0448        0.0145   \n",
       "3         0.820   0.407    4   -11.301     0       0.0387        0.7710   \n",
       "4         0.452   0.579    2   -11.085     1       0.0476        0.0153   \n",
       "\n",
       "   instrumentalness  liveness  valence  ...  album_popularity  \\\n",
       "0           0.00000    0.0832    0.172  ...                66   \n",
       "1           0.00000    0.0624    0.627  ...                45   \n",
       "2           0.02330    0.4810    0.728  ...                38   \n",
       "3           0.00544    0.1130    0.770  ...                45   \n",
       "4           0.89300    0.6370    0.929  ...                68   \n",
       "\n",
       "   artist_popularity  like  r&b pop rap  hip hop  funk  rock  duration_min  \n",
       "0                 75     1    0   1   1        1     0     0      1.586000  \n",
       "1                 51     1    0   1   0        0     0     1      2.971550  \n",
       "2                 51     1    0   1   0        0     0     1      2.878450  \n",
       "3                 51     1    0   1   0        0     0     1      2.300450  \n",
       "4                 72     1    0   0   0        0     1     0      3.562667  \n",
       "\n",
       "[5 rows x 24 columns]"
      ]
     },
     "execution_count": 16,
     "metadata": {},
     "output_type": "execute_result"
    }
   ],
   "source": [
    "df.head()"
   ]
  },
  {
   "cell_type": "code",
   "execution_count": 17,
   "metadata": {
    "scrolled": true
   },
   "outputs": [
    {
     "data": {
      "text/plain": [
       "(2376, 24)"
      ]
     },
     "execution_count": 17,
     "metadata": {},
     "output_type": "execute_result"
    }
   ],
   "source": [
    "df.shape"
   ]
  },
  {
   "cell_type": "markdown",
   "metadata": {},
   "source": [
    "**This is the final dataset we will be training the model on:**"
   ]
  },
  {
   "cell_type": "code",
   "execution_count": 19,
   "metadata": {},
   "outputs": [
    {
     "data": {
      "text/html": [
       "<div>\n",
       "<style scoped>\n",
       "    .dataframe tbody tr th:only-of-type {\n",
       "        vertical-align: middle;\n",
       "    }\n",
       "\n",
       "    .dataframe tbody tr th {\n",
       "        vertical-align: top;\n",
       "    }\n",
       "\n",
       "    .dataframe thead th {\n",
       "        text-align: right;\n",
       "    }\n",
       "</style>\n",
       "<table border=\"1\" class=\"dataframe\">\n",
       "  <thead>\n",
       "    <tr style=\"text-align: right;\">\n",
       "      <th></th>\n",
       "      <th>danceability</th>\n",
       "      <th>energy</th>\n",
       "      <th>key</th>\n",
       "      <th>loudness</th>\n",
       "      <th>mode</th>\n",
       "      <th>speechiness</th>\n",
       "      <th>acousticness</th>\n",
       "      <th>instrumentalness</th>\n",
       "      <th>liveness</th>\n",
       "      <th>valence</th>\n",
       "      <th>...</th>\n",
       "      <th>album_popularity</th>\n",
       "      <th>artist_popularity</th>\n",
       "      <th>like</th>\n",
       "      <th>r&amp;b</th>\n",
       "      <th>pop</th>\n",
       "      <th>rap</th>\n",
       "      <th>hip hop</th>\n",
       "      <th>funk</th>\n",
       "      <th>rock</th>\n",
       "      <th>duration_min</th>\n",
       "    </tr>\n",
       "  </thead>\n",
       "  <tbody>\n",
       "    <tr>\n",
       "      <th>0</th>\n",
       "      <td>0.489</td>\n",
       "      <td>0.516</td>\n",
       "      <td>1</td>\n",
       "      <td>-8.921</td>\n",
       "      <td>0</td>\n",
       "      <td>0.3080</td>\n",
       "      <td>0.4460</td>\n",
       "      <td>0.00000</td>\n",
       "      <td>0.0832</td>\n",
       "      <td>0.172</td>\n",
       "      <td>...</td>\n",
       "      <td>66</td>\n",
       "      <td>75</td>\n",
       "      <td>1</td>\n",
       "      <td>0</td>\n",
       "      <td>1</td>\n",
       "      <td>1</td>\n",
       "      <td>1</td>\n",
       "      <td>0</td>\n",
       "      <td>0</td>\n",
       "      <td>1.586000</td>\n",
       "    </tr>\n",
       "    <tr>\n",
       "      <th>1</th>\n",
       "      <td>0.662</td>\n",
       "      <td>0.436</td>\n",
       "      <td>9</td>\n",
       "      <td>-12.900</td>\n",
       "      <td>0</td>\n",
       "      <td>0.0651</td>\n",
       "      <td>0.8530</td>\n",
       "      <td>0.00000</td>\n",
       "      <td>0.0624</td>\n",
       "      <td>0.627</td>\n",
       "      <td>...</td>\n",
       "      <td>45</td>\n",
       "      <td>51</td>\n",
       "      <td>1</td>\n",
       "      <td>0</td>\n",
       "      <td>1</td>\n",
       "      <td>0</td>\n",
       "      <td>0</td>\n",
       "      <td>0</td>\n",
       "      <td>1</td>\n",
       "      <td>2.971550</td>\n",
       "    </tr>\n",
       "    <tr>\n",
       "      <th>2</th>\n",
       "      <td>0.517</td>\n",
       "      <td>0.928</td>\n",
       "      <td>4</td>\n",
       "      <td>-8.881</td>\n",
       "      <td>0</td>\n",
       "      <td>0.0448</td>\n",
       "      <td>0.0145</td>\n",
       "      <td>0.02330</td>\n",
       "      <td>0.4810</td>\n",
       "      <td>0.728</td>\n",
       "      <td>...</td>\n",
       "      <td>38</td>\n",
       "      <td>51</td>\n",
       "      <td>1</td>\n",
       "      <td>0</td>\n",
       "      <td>1</td>\n",
       "      <td>0</td>\n",
       "      <td>0</td>\n",
       "      <td>0</td>\n",
       "      <td>1</td>\n",
       "      <td>2.878450</td>\n",
       "    </tr>\n",
       "    <tr>\n",
       "      <th>3</th>\n",
       "      <td>0.820</td>\n",
       "      <td>0.407</td>\n",
       "      <td>4</td>\n",
       "      <td>-11.301</td>\n",
       "      <td>0</td>\n",
       "      <td>0.0387</td>\n",
       "      <td>0.7710</td>\n",
       "      <td>0.00544</td>\n",
       "      <td>0.1130</td>\n",
       "      <td>0.770</td>\n",
       "      <td>...</td>\n",
       "      <td>45</td>\n",
       "      <td>51</td>\n",
       "      <td>1</td>\n",
       "      <td>0</td>\n",
       "      <td>1</td>\n",
       "      <td>0</td>\n",
       "      <td>0</td>\n",
       "      <td>0</td>\n",
       "      <td>1</td>\n",
       "      <td>2.300450</td>\n",
       "    </tr>\n",
       "    <tr>\n",
       "      <th>4</th>\n",
       "      <td>0.452</td>\n",
       "      <td>0.579</td>\n",
       "      <td>2</td>\n",
       "      <td>-11.085</td>\n",
       "      <td>1</td>\n",
       "      <td>0.0476</td>\n",
       "      <td>0.0153</td>\n",
       "      <td>0.89300</td>\n",
       "      <td>0.6370</td>\n",
       "      <td>0.929</td>\n",
       "      <td>...</td>\n",
       "      <td>68</td>\n",
       "      <td>72</td>\n",
       "      <td>1</td>\n",
       "      <td>0</td>\n",
       "      <td>0</td>\n",
       "      <td>0</td>\n",
       "      <td>0</td>\n",
       "      <td>1</td>\n",
       "      <td>0</td>\n",
       "      <td>3.562667</td>\n",
       "    </tr>\n",
       "  </tbody>\n",
       "</table>\n",
       "<p>5 rows × 24 columns</p>\n",
       "</div>"
      ],
      "text/plain": [
       "   danceability  energy  key  loudness  mode  speechiness  acousticness  \\\n",
       "0         0.489   0.516    1    -8.921     0       0.3080        0.4460   \n",
       "1         0.662   0.436    9   -12.900     0       0.0651        0.8530   \n",
       "2         0.517   0.928    4    -8.881     0       0.0448        0.0145   \n",
       "3         0.820   0.407    4   -11.301     0       0.0387        0.7710   \n",
       "4         0.452   0.579    2   -11.085     1       0.0476        0.0153   \n",
       "\n",
       "   instrumentalness  liveness  valence  ...  album_popularity  \\\n",
       "0           0.00000    0.0832    0.172  ...                66   \n",
       "1           0.00000    0.0624    0.627  ...                45   \n",
       "2           0.02330    0.4810    0.728  ...                38   \n",
       "3           0.00544    0.1130    0.770  ...                45   \n",
       "4           0.89300    0.6370    0.929  ...                68   \n",
       "\n",
       "   artist_popularity  like  r&b pop rap  hip hop  funk  rock  duration_min  \n",
       "0                 75     1    0   1   1        1     0     0      1.586000  \n",
       "1                 51     1    0   1   0        0     0     1      2.971550  \n",
       "2                 51     1    0   1   0        0     0     1      2.878450  \n",
       "3                 51     1    0   1   0        0     0     1      2.300450  \n",
       "4                 72     1    0   0   0        0     1     0      3.562667  \n",
       "\n",
       "[5 rows x 24 columns]"
      ]
     },
     "execution_count": 19,
     "metadata": {},
     "output_type": "execute_result"
    }
   ],
   "source": [
    "df.head()"
   ]
  },
  {
   "cell_type": "code",
   "execution_count": 20,
   "metadata": {},
   "outputs": [],
   "source": [
    "df.to_csv('final_df.csv')"
   ]
  },
  {
   "cell_type": "markdown",
   "metadata": {},
   "source": [
    "#### This is the dataset we'll use to check the songs (with the uri) after the model is trained: "
   ]
  },
  {
   "cell_type": "code",
   "execution_count": null,
   "metadata": {},
   "outputs": [],
   "source": [
    "rec_df = pd.concat([rec_df, uri], axis=1)\n",
    "rec_df = rec_df.drop([rec_df.index[1100]])  # Last row doesn't have values\n",
    "rec_df.head()"
   ]
  },
  {
   "cell_type": "markdown",
   "metadata": {},
   "source": [
    "## Data Visualization"
   ]
  },
  {
   "cell_type": "markdown",
   "metadata": {},
   "source": [
    "The dataset contains 1084 'liked' songs and 1286 'disliked' songs."
   ]
  },
  {
   "cell_type": "code",
   "execution_count": 18,
   "metadata": {
    "scrolled": false
   },
   "outputs": [
    {
     "data": {
      "text/plain": [
       "<seaborn.axisgrid.FacetGrid at 0x1a1fb36990>"
      ]
     },
     "execution_count": 18,
     "metadata": {},
     "output_type": "execute_result"
    },
    {
     "data": {
      "image/png": "[encoded data removed]",
      "text/plain": [
       "<Figure size 360x360 with 1 Axes>"
      ]
     },
     "metadata": {
      "needs_background": "light"
     },
     "output_type": "display_data"
    }
   ],
   "source": [
    "sns.catplot(data = df, x='like', kind='count')"
   ]
  },
  {
   "cell_type": "markdown",
   "metadata": {},
   "source": [
    "#### TODO: more visualization with code from BrainStation\n"
   ]
  }
 ],
 "metadata": {
  "kernelspec": {
   "display_name": "Python 3",
   "language": "python",
   "name": "python3"
  },
  "language_info": {
   "codemirror_mode": {
    "name": "ipython",
    "version": 3
   },
   "file_extension": ".py",
   "mimetype": "text/x-python",
   "name": "python",
   "nbconvert_exporter": "python",
   "pygments_lexer": "ipython3",
   "version": "3.7.6"
  }
 },
 "nbformat": 4,
 "nbformat_minor": 4
}
